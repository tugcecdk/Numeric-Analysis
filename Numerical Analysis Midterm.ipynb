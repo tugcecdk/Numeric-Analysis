{
  "nbformat": 4,
  "nbformat_minor": 0,
  "metadata": {
    "colab": {
      "name": "NUMERICAL ANALYSIS-.ipynb",
      "provenance": [],
      "collapsed_sections": []
    },
    "kernelspec": {
      "name": "python3",
      "display_name": "Python 3"
    }
  },
  "cells": [
    
    {
      "cell_type": "markdown",
      "metadata": {
        "id": "koslSjsYVmQW"
      },
      "source": [
        "Importing libraries"
      ]
    },
    {
      "cell_type": "code",
      "metadata": {
        "id": "u-9yJb2sVYx-"
      },
      "source": [
        "import sympy as sp\n",
        "import numpy as np"
      ],
      "execution_count": 1,
      "outputs": []
    },
    {
      "cell_type": "markdown",
      "metadata": {
        "id": "B5tNthlcVtbn"
      },
      "source": [
        "**Question 1** - Approximate sin(2x) with using the first five terms of the Taylor series expansion for x=π/4.\n",
        "Explain what type of error we are dealing with for this problem. Calculate absolute error,\n",
        "relative error and percentage error. \n"
      ]
    },
    {
      "cell_type": "code",
      "metadata": {
        "id": "mGIZqdwvVyyp"
      },
      "source": [
        "def taylor_series(func, x, x0, n_term, x_value, x0_value):\n",
        "    \"\"\"\n",
        "    :param func: Function to approximate with taylor series\n",
        "    :param x: Symbol using in the function. E.g. X for sin(X)\n",
        "    :param x0: Symbol using in the function.\n",
        "    :param n_term: Number of terms, e.g. first n terms\n",
        "    :param x_value: Value of x\n",
        "    :param x0_value: Referance point\n",
        "    :return: Approximate value\n",
        "    \"\"\"\n",
        "\n",
        "    sum = 0\n",
        "\n",
        "    x_x0 = (x - x0)\n",
        "\n",
        "    for i in range(n_term):\n",
        "        fx0 = func.evalf(subs={x: x0_value})\n",
        "        x_x0_n = (x_x0.evalf(subs={x: x_value, x0: x0_value})) ** i\n",
        "        fact_n = sp.factorial(i)\n",
        "        # f(x0) * (x-x0)^n / fact(n)\n",
        "        sum += fx0 * x_x0_n / fact_n\n",
        "        func = sp.diff(func, x)\n",
        "\n",
        "    return sum"
      ],
      "execution_count": 2,
      "outputs": []
    },
    {
      "cell_type": "code",
      "metadata": {
        "colab": {
          "base_uri": "https://localhost:8080/"
        },
        "id": "VSrouey8V7qu",
        "outputId": "b722ce29-e4ce-404e-aee4-cbe26fc1b498"
      },
      "source": [
        "# We have to create x and a as \"symbol\" which are parameters\n",
        "# of tylor series expansion\n",
        "x = sp.Symbol('x')\n",
        "x0 = sp.Symbol('x0')\n",
        "# Create function sin(2x)\n",
        "f = sp.sin(2 * x)\n",
        "# Set x = pi/4 and a = pi/4\n",
        "x0_value = 0\n",
        "x_value = sp.pi / 4\n",
        "# First 5 term is tylor series will be used\n",
        "n_steps = 5\n",
        "\n",
        "# Our function result\n",
        "approximate_value = taylor_series(f, x, x0, n_steps, x_value, x0_value)\n",
        "# Real sin(2*pi/4) result\n",
        "exact_value = f.evalf(subs={x: x_value})\n",
        "\n",
        "print(\"Approximate value: \", approximate_value)\n",
        "print(\"Exact value:       \", exact_value)\n",
        "\n",
        "absolute_error = np.abs(exact_value - approximate_value)\n",
        "relative_error = absolute_error / np.abs(exact_value)\n",
        "percentage_error = relative_error * 100\n",
        "\n",
        "print(\"Absolute error: \", absolute_error)\n",
        "print(\"Relative error: \", relative_error)\n",
        "print(\"Percentage error: \", percentage_error)"
      ],
      "execution_count": 3,
      "outputs": [
        {
          "output_type": "stream",
          "text": [
            "Approximate value:  0.924832229288650\n",
            "Exact value:        1.00000000000000\n",
            "Absolute error:  0.0751677707113496\n",
            "Relative error:  0.0751677707113496\n",
            "Percentage error:  7.51677707113496\n"
          ],
          "name": "stdout"
        }
      ]
    },
    {
      "cell_type": "markdown",
      "metadata": {
        "id": "KkaZSTyMW9Al"
      },
      "source": [
        "**Question 2** - Use Gauss elimination to solve the equations Ax=B"
      ]
    },
    {
      "cell_type": "code",
      "metadata": {
        "id": "A9AQv4PzXEVf"
      },
      "source": [
        "def gauss_elimination(A, b):\n",
        "    \"\"\"\n",
        "    :return: x vector\n",
        "    \"\"\"\n",
        "    n = len(b)\n",
        "    x = np.zeros(n, float)\n",
        "    # Create and use copies of A matrix and b vector because their values\n",
        "    # will be changed during calculation.\n",
        "    a_copy = np.copy(A)\n",
        "    b_copy = np.copy(b)\n",
        "\n",
        "    for k in range(n - 1):\n",
        "        for i in range(k + 1, n):\n",
        "            if a_copy[i, k] == 0:\n",
        "                continue\n",
        "            factor = a_copy[k, k] / a_copy[i, k]\n",
        "            for j in range(k, n):\n",
        "                a_copy[i, j] = a_copy[k, j] - a_copy[i, j] * factor\n",
        "            b_copy[i] = b_copy[k] - b_copy[i] * factor\n",
        "\n",
        "    x[n - 1] = b_copy[n - 1] / a_copy[n - 1, n - 1]\n",
        "    for i in range(n - 2, -1, -1):\n",
        "        sum_ax = 0\n",
        "        for j in range(i + 1, n):\n",
        "            sum_ax += a_copy[i, j] * x[j]\n",
        "        x[i] = (b_copy[i] - sum_ax) / a_copy[i, i]\n",
        "\n",
        "    return x"
      ],
      "execution_count": 4,
      "outputs": []
    },
    {
      "cell_type": "code",
      "metadata": {
        "colab": {
          "base_uri": "https://localhost:8080/"
        },
        "id": "WX-tyrzUYBSs",
        "outputId": "a9c18659-e430-479f-8586-bdd50e85bdf4"
      },
      "source": [
        "# Create A matrix\n",
        "A = np.array([[2, -3, -1],\n",
        "              [3, 2, -5],\n",
        "              [2, 4, -1]], dtype=np.float)\n",
        "# Create b vector\n",
        "b = np.array([3, -9, -5], dtype=np.float)\n",
        "\n",
        "# Calculate x\n",
        "x = gauss_elimination(A, b)\n",
        "\n",
        "print(\"x :\", x)\n",
        "\n",
        "# Correction\n",
        "print(\"Correction\\nA.x is: \", np.matmul(A, x), \" and b :\", b)"
      ],
      "execution_count": 5,
      "outputs": [
        {
          "output_type": "stream",
          "text": [
            "x : [ 0.65306122 -1.14285714  1.73469388]\n",
            "Correction\n",
            "A.x is:  [ 3. -9. -5.]  and b : [ 3. -9. -5.]\n"
          ],
          "name": "stdout"
        }
      ]
    },
    {
      "cell_type": "markdown",
      "metadata": {
        "id": "drt-NHdpYUZL"
      },
      "source": [
        "**Question 3** - Solve the equations Ax=B by Doolittle’s decomposition method"
      ]
    },
    {
      "cell_type": "code",
      "metadata": {
        "id": "b8EhlERRYYox"
      },
      "source": [
        "def doolittle_decomposition(A, b):\n",
        "    #  Initialize L and U\n",
        "    n = len(A)\n",
        "    L = np.zeros((n, n))\n",
        "    U = np.zeros((n, n))\n",
        "\n",
        "    # Fill L and U with their values\n",
        "    for j in range(n):\n",
        "        L[j][j] = 1\n",
        "\n",
        "        for i in range(j + 1):\n",
        "            sum_ = sum(U[k][j] * L[i][k] for k in range(i))\n",
        "            U[i][j] = A[i][j] - sum_\n",
        "\n",
        "        for i in range(j, n):\n",
        "            sum_ = sum(U[k][j] * L[i][k] for k in range(j))\n",
        "            try:\n",
        "                L[i][j] = (A[i][j] - sum_) / U[j][j]\n",
        "            except ZeroDivisionError:\n",
        "                pass\n",
        "\n",
        "    print(\"L:\\n\", L)\n",
        "    print(\"U:\\n\", U)\n",
        "\n",
        "    \"\"\"   Find Y from L.Y = b with gauss elimination   \"\"\"\n",
        "    Y = gauss_elimination(L, b)\n",
        "    print(\"\\ny :\", Y)\n",
        "\n",
        "    \"\"\"   Find x from U.x = Y with gauss elimination   \"\"\"\n",
        "    x = gauss_elimination(U, Y)\n",
        "\n",
        "    return x"
      ],
      "execution_count": 6,
      "outputs": []
    },
    {
      "cell_type": "code",
      "metadata": {
        "colab": {
          "base_uri": "https://localhost:8080/"
        },
        "id": "eekFVdz_YvH1",
        "outputId": "b9478f4c-28e2-4831-a9e9-378a59277570"
      },
      "source": [
        "# Create A matrix\n",
        "A = np.array([[2.34, -4.1, 1.78],\n",
        "              [-1.98, 3.47, -2.22],\n",
        "              [2.36, -15.17, 6.18]], dtype=np.float32)\n",
        "\n",
        "# Create b vector\n",
        "b = np.array([0.02, -0.73, -6.63], dtype=np.float32)\n",
        "\n",
        "# Calculate x\n",
        "x = doolittle_decomposition(A, b)\n",
        "\n",
        "print(\"\\nx :\", x)\n",
        "# correction\n",
        "print(\"\\nCorrection\\nA.x : \", np.matmul(A, np.transpose(x)), \" and b: \", b)"
      ],
      "execution_count": 7,
      "outputs": [
        {
          "output_type": "stream",
          "text": [
            "L:\n",
            " [[ 1.00000000e+00  0.00000000e+00  0.00000000e+00]\n",
            " [-8.46153885e-01  1.00000000e+00  0.00000000e+00]\n",
            " [ 1.00854700e+00 -1.43464027e+04  1.00000000e+00]]\n",
            "U:\n",
            " [[ 2.33999991e+00 -4.09999990e+00  1.77999997e+00]\n",
            " [ 0.00000000e+00  7.69179405e-04 -7.13846137e-01]\n",
            " [ 0.00000000e+00  0.00000000e+00 -1.02367393e+04]]\n",
            "\n",
            "y : [ 1.99999996e-02 -7.13076932e-01 -1.02367390e+04]\n",
            "\n",
            "x : [1.00000587 1.00000333 0.99999997]\n",
            "\n",
            "Correction\n",
            "A.x :  [ 0.02       -0.73000001 -6.63003722]  and b:  [ 0.02 -0.73 -6.63]\n"
          ],
          "name": "stdout"
        }
      ]
    },
    {
      "cell_type": "markdown",
      "metadata": {
        "id": "tP0D83OzZJ7w"
      },
      "source": [
        "**Question 4** - Solve the equations Ax=B by Choleski’s decomposition method"
      ]
    },
    {
      "cell_type": "code",
      "metadata": {
        "id": "zwLZp-GJZR93"
      },
      "source": [
        "def cholosky(matrix):\n",
        "    # initialize lower matrix with same dimensions of input matrix\n",
        "    Lower = np.zeros((matrix.shape[0], matrix.shape[1]))\n",
        "    n, _ = np.shape(matrix)\n",
        "    for j in range(n):\n",
        "        for i in range(j, n):\n",
        "            if i == j:\n",
        "                Lower[i, j] = np.sqrt(matrix[i, j]-np.sum(Lower[i, :j]**2))\n",
        "            else:\n",
        "                Lower[i, j] = (matrix[i, j]-np.sum(Lower[i, :j]*Lower[j, :j])) / Lower[j, j]\n",
        "    return Lower"
      ],
      "execution_count": 8,
      "outputs": []
    },
    {
      "cell_type": "code",
      "metadata": {
        "colab": {
          "base_uri": "https://localhost:8080/"
        },
        "id": "IAz202mwZosY",
        "outputId": "cd9075c6-915a-4cfd-c7e3-8e23d6a6ca54"
      },
      "source": [
        "# Create A matrix\n",
        "A = np.array([[1, 1, 1],\n",
        "            [1, 2, 2],\n",
        "            [1, 2, 3]], dtype=np.float32)\n",
        "\n",
        "# Create b vector\n",
        "b = np.array([1, 1.5, 3], dtype=np.float32)\n",
        "\n",
        "print(\"A:\\n\", A, \"\\nb:\", b)\n",
        "\n",
        "# Find L and L transpose\n",
        "L = cholosky(A)\n",
        "L_transpose = np.transpose(L)\n",
        "\n",
        "\"\"\"\n",
        "A.x = b\n",
        "L.L_transpose.x = b\n",
        "L_transpose.x = Y\n",
        "L.Y = b\n",
        "\n",
        "first find Y from L.Y = b\n",
        "then find x from L_transpose.x = Y\n",
        "\"\"\"\n",
        "\n",
        "# Find Y from L.Y = b\n",
        "Y = gauss_elimination(L, b)\n",
        "# Find x from L_transpose.x = Y\n",
        "x = gauss_elimination(L_transpose, Y)\n",
        "\n",
        "print(\"\\nx:\", x)\n",
        "print(\"\\nCorrection A.x :\\n\", np.matmul(A, x), \"and b : \", b)"
      ],
      "execution_count": 9,
      "outputs": [
        {
          "output_type": "stream",
          "text": [
            "A:\n",
            " [[1. 1. 1.]\n",
            " [1. 2. 2.]\n",
            " [1. 2. 3.]] \n",
            "b: [1.  1.5 3. ]\n",
            "\n",
            "x: [ 0.5 -1.   1.5]\n",
            "\n",
            "Correction A.x :\n",
            " [1.  1.5 3. ] and b :  [1.  1.5 3. ]\n"
          ],
          "name": "stdout"
        }
      ]
    }
  ]
}
